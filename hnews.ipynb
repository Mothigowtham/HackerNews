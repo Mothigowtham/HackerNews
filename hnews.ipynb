{
 "cells": [
  {
   "cell_type": "markdown",
   "id": "9c397c9f",
   "metadata": {},
   "source": [
    "# Hacker News Posts Analysis\n",
    "\n",
    "In this project, I compared two types of posts (Ask HN and Show HN) from a popular site known as Hacker News for technology related stories.\n",
    "\n",
    "Users submit Ask HN posts to ask the Hacker News community a specific question and Show HN posts to show the community a project, product, or just generally something interesting. I compared these two types of posts to determine the following:\n",
    "\n",
    "1. Do Ask HN or Show HN receive more comments on average?\n",
    "2. Do posts created at a certain time receive more comments on average?\n",
    "\n",
    "I used the datetime module to access the date and time information of each posts using the datetime.strptime() constructor, datetime.strftime() method etc.,\n",
    "\n",
    "This dataset was reduced by removing all submissions that did not receive any comments, and then randomly sampled from the remaining submissions."
   ]
  },
  {
   "cell_type": "markdown",
   "id": "23ff9fdc",
   "metadata": {},
   "source": [
    "## Getting familiar with the dataset"
   ]
  },
  {
   "cell_type": "code",
   "execution_count": 21,
   "id": "3411e075",
   "metadata": {},
   "outputs": [
    {
     "name": "stdout",
     "output_type": "stream",
     "text": [
      "['id', 'title', 'url', 'num_points', 'num_comments', 'author', 'created_at']\n",
      "['12224879', 'Interactive Dynamic Video', 'http://www.interactivedynamicvideo.com/', '386', '52', 'ne0phyte', '8/4/2016 11:52']\n",
      "['11964716', \"Florida DJs May Face Felony for April Fools' Water Joke\", 'http://www.thewire.com/entertainment/2013/04/florida-djs-april-fools-water-joke/63798/', '2', '1', 'vezycash', '6/23/2016 22:20']\n"
     ]
    }
   ],
   "source": [
    "from csv import reader\n",
    "import datetime as dt\n",
    "hn = list(reader(open('hnews.csv')))\n",
    "for i in range (0,3):\n",
    "    print(hn[i])"
   ]
  },
  {
   "cell_type": "markdown",
   "id": "dcb57832",
   "metadata": {},
   "source": [
    "## Separating the header from the data"
   ]
  },
  {
   "cell_type": "code",
   "execution_count": 12,
   "id": "79e5f1b4",
   "metadata": {},
   "outputs": [
    {
     "name": "stdout",
     "output_type": "stream",
     "text": [
      "['12224879', 'Interactive Dynamic Video', 'http://www.interactivedynamicvideo.com/', '386', '52', 'ne0phyte', '8/4/2016 11:52']\n",
      "['11964716', \"Florida DJs May Face Felony for April Fools' Water Joke\", 'http://www.thewire.com/entertainment/2013/04/florida-djs-april-fools-water-joke/63798/', '2', '1', 'vezycash', '6/23/2016 22:20']\n",
      "['11919867', 'Technology ventures: From Idea to Enterprise', 'https://www.amazon.com/Technology-Ventures-Enterprise-Thomas-Byers/dp/0073523429', '3', '1', 'hswarna', '6/17/2016 0:01']\n"
     ]
    }
   ],
   "source": [
    "hn_header = hn[0]\n",
    "hn = hn[1:]\n",
    "for i in range (0,3):\n",
    "    print(hn[i])"
   ]
  },
  {
   "cell_type": "markdown",
   "id": "696c46b4",
   "metadata": {},
   "source": [
    "## Separating Ask HN, Show HN and other posts"
   ]
  },
  {
   "cell_type": "code",
   "execution_count": 13,
   "id": "d83397d7",
   "metadata": {},
   "outputs": [
    {
     "name": "stdout",
     "output_type": "stream",
     "text": [
      "1744\n",
      "1162\n",
      "17193\n"
     ]
    }
   ],
   "source": [
    "ask_posts = []\n",
    "show_posts = []\n",
    "other_posts = []\n",
    "for row in hn:\n",
    "    title = row[1].lower()\n",
    "    if title.startswith('ask hn'):\n",
    "        ask_posts.append(row)\n",
    "    elif title.startswith('show hn'):\n",
    "        show_posts.append(row)\n",
    "    else:\n",
    "        other_posts.append(row)\n",
    "        \n",
    "print(len(ask_posts))\n",
    "print(len(show_posts))\n",
    "print(len(other_posts))"
   ]
  },
  {
   "cell_type": "markdown",
   "id": "a33bde9f",
   "metadata": {},
   "source": [
    "## Calculating the average number of posts Ask HN and Show HN posts receive"
   ]
  },
  {
   "cell_type": "code",
   "execution_count": 14,
   "id": "1bb31784",
   "metadata": {},
   "outputs": [
    {
     "name": "stdout",
     "output_type": "stream",
     "text": [
      "Ask HN posts average no. of. comments: 14\n",
      "Show HN posts average no. of. comments: 10\n"
     ]
    }
   ],
   "source": [
    "total_ask = 0\n",
    "ask_comments = 0\n",
    "for row in ask_posts:\n",
    "    total_ask += 1\n",
    "    ask_comments += int(row[4])\n",
    "print('Ask HN posts average no. of. comments:', round(ask_comments/total_ask))\n",
    "\n",
    "total_show = 0\n",
    "show_comments = 0\n",
    "for row in show_posts:\n",
    "    total_show += 1\n",
    "    show_comments += int(row[4])\n",
    "print('Show HN posts average no. of. comments:', round(show_comments/total_show))"
   ]
  },
  {
   "cell_type": "markdown",
   "id": "891a8b5a",
   "metadata": {},
   "source": [
    "From this I could see that Ask HN posts receives more comments than Show HN posts as ask posts are more likely to receive comments. Therefore, I will focus on remaining analysis just on these posts."
   ]
  },
  {
   "cell_type": "markdown",
   "id": "45cb4d2a",
   "metadata": {},
   "source": [
    "## Finding the Amount of Ask Posts and Comments by Hour Created\n",
    "\n",
    "I'll determine if we can maximize the amount of comments an ask post receives by creating it at a certain time. First, I'll find the amount of ask posts created during each hour of day, along with the number of comments those posts received. Then, I'll calculate the average amount of comments ask posts created at each hour of the day receive."
   ]
  },
  {
   "cell_type": "code",
   "execution_count": 17,
   "id": "a79a571f",
   "metadata": {},
   "outputs": [
    {
     "name": "stdout",
     "output_type": "stream",
     "text": [
      "{9: 45, 13: 85, 10: 59, 14: 107, 16: 108, 23: 68, 12: 73, 17: 100, 15: 116, 21: 109, 20: 80, 2: 58, 18: 109, 3: 54, 5: 46, 19: 110, 1: 60, 22: 71, 8: 48, 4: 47, 0: 55, 6: 44, 7: 34, 11: 58}\n",
      "{9: 251, 13: 1253, 10: 793, 14: 1416, 16: 1814, 23: 543, 12: 687, 17: 1146, 15: 4477, 21: 1745, 20: 1722, 2: 1381, 18: 1439, 3: 421, 5: 464, 19: 1188, 1: 683, 22: 479, 8: 492, 4: 337, 0: 447, 6: 397, 7: 267, 11: 641}\n"
     ]
    }
   ],
   "source": [
    "ask_counts = {}\n",
    "askk_comments = {}\n",
    "\n",
    "for row in ask_posts:\n",
    "    hourr = row[-1].hour\n",
    "    comm = int(row[4])\n",
    "    if hourr not in ask_counts:\n",
    "        ask_counts[hourr] = 1\n",
    "        askk_comments[hourr] = comm\n",
    "    else:\n",
    "        ask_counts[hourr] += 1\n",
    "        askk_comments[hourr] += comm\n",
    "\n",
    "print(ask_counts)\n",
    "print(askk_comments)"
   ]
  },
  {
   "cell_type": "markdown",
   "id": "b3cf1845",
   "metadata": {},
   "source": [
    "## Calculating the Average Number of Comments for Ask HN Posts by Hour"
   ]
  },
  {
   "cell_type": "code",
   "execution_count": 18,
   "id": "107ca206",
   "metadata": {},
   "outputs": [
    {
     "name": "stdout",
     "output_type": "stream",
     "text": [
      "{9: 6, 13: 15, 10: 13, 14: 13, 16: 17, 23: 8, 12: 9, 17: 11, 15: 39, 21: 16, 20: 22, 2: 24, 18: 13, 3: 8, 5: 10, 19: 11, 1: 11, 22: 7, 8: 10, 4: 7, 0: 8, 6: 9, 7: 8, 11: 11}\n"
     ]
    }
   ],
   "source": [
    "ask_average = {}\n",
    "for element in ask_counts:\n",
    "    ask_average[element] = round(askk_comments[element] / ask_counts[element])\n",
    "print(ask_average)"
   ]
  },
  {
   "cell_type": "markdown",
   "id": "2c0a6dcf",
   "metadata": {},
   "source": [
    "## Sorting and Printing Values from a List of Lists"
   ]
  },
  {
   "cell_type": "code",
   "execution_count": 19,
   "id": "b088580a",
   "metadata": {},
   "outputs": [
    {
     "name": "stdout",
     "output_type": "stream",
     "text": [
      "[(6, 9), (15, 13), (13, 10), (13, 14), (17, 16), (8, 23), (9, 12), (11, 17), (39, 15), (16, 21), (22, 20), (24, 2), (13, 18), (8, 3), (10, 5), (11, 19), (11, 1), (7, 22), (10, 8), (7, 4), (8, 0), (9, 6), (8, 7), (11, 11)]\n",
      "[(39, 15), (24, 2), (22, 20), (17, 16), (16, 21), (15, 13), (13, 18), (13, 14), (13, 10), (11, 19), (11, 17), (11, 11), (11, 1), (10, 8), (10, 5), (9, 12), (9, 6), (8, 23), (8, 7), (8, 3), (8, 0), (7, 22), (7, 4), (6, 9)]\n"
     ]
    }
   ],
   "source": [
    "sortt = []\n",
    "for element in ask_average:\n",
    "    sortt.append((ask_average[element], element))\n",
    "print(sortt)\n",
    "\n",
    "sortedd = sorted(sortt, reverse = True)\n",
    "print(sortedd)"
   ]
  },
  {
   "cell_type": "code",
   "execution_count": 25,
   "id": "9a1e7c94",
   "metadata": {},
   "outputs": [
    {
     "name": "stdout",
     "output_type": "stream",
     "text": [
      "Top 5 hours for Ask HN:\n",
      "15:00 : 39 average comments per post\n",
      "2:00 : 24 average comments per post\n",
      "20:00 : 22 average comments per post\n",
      "16:00 : 17 average comments per post\n",
      "21:00 : 16 average comments per post\n"
     ]
    }
   ],
   "source": [
    "# Sort the values and print the the 5 hours with the highest average comments.\n",
    "\n",
    "print('Top 5 hours for Ask HN:')\n",
    "for avg, hr in sortedd[:5]:\n",
    "    print(\n",
    "        '{}:00 : {} average comments per post'.format(hr, avg)\n",
    "    )"
   ]
  },
  {
   "cell_type": "markdown",
   "id": "c966019d",
   "metadata": {},
   "source": [
    "The hour that receives the most comments per post on average is 15:00, with an average of 39 comments per post. In conclusion, there's about a 60% increase in the number of comments between the hours with the highest and second highest average number of comments."
   ]
  }
 ],
 "metadata": {
  "kernelspec": {
   "display_name": "Python 3 (ipykernel)",
   "language": "python",
   "name": "python3"
  },
  "language_info": {
   "codemirror_mode": {
    "name": "ipython",
    "version": 3
   },
   "file_extension": ".py",
   "mimetype": "text/x-python",
   "name": "python",
   "nbconvert_exporter": "python",
   "pygments_lexer": "ipython3",
   "version": "3.10.1"
  }
 },
 "nbformat": 4,
 "nbformat_minor": 5
}
